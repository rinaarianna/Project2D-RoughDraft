{
 "cells": [
  {
   "cell_type": "markdown",
   "id": "ead6a1d1",
   "metadata": {},
   "source": [
    "##### Corina Ranger\n",
    "# BIMM 145 Project 2 "
   ]
  },
  {
   "cell_type": "markdown",
   "id": "4c34ff31",
   "metadata": {},
   "source": [
    "### Scientific Question: \n",
    "**Does dextromethorphan, a common over-the-counter cough syrup, target the same biological pathways in the brain to the known pathways ketamine in its use as an antidepressant?**"
   ]
  },
  {
   "cell_type": "markdown",
   "id": "779afb85",
   "metadata": {},
   "source": [
    "Ketamine, a well-known psychedelic pharmaceutical drug, functions as an NMDA Receptor antagonist. This blockage of the NMDA receptor is thought to be responsible for ketamine's antidepressant effects in patients sufferring from major depressive disorder (Hashimoto et al 2016)."
   ]
  },
  {
   "cell_type": "markdown",
   "id": "d2e6355c",
   "metadata": {},
   "source": [
    "The over-the-counter cough syrup known as dextromethorphan is also known to be an NMDA receptor antagonist (Cole et al 1989). This suggests that the  dextromethorphan may also be effective in the treatment of depression through similar biological pathways involving the NMDA receptor. The structures of ketamine and dextromethorphan can be found using PubChem (https://pubchem.ncbi.nlm.nih.gov/). According to the database website: \n",
    "\n",
    "\"PubChem is the world's largest collection of freely accessible chemical information. Search chemicals by name, molecular formula, structure, and other identifiers. Find chemical and physical properties, biological activities, safety and toxicity information, patents, literature citations and more.\"\n"
   ]
  },
  {
   "cell_type": "markdown",
   "id": "c38def75",
   "metadata": {},
   "source": [
    "### Scientific Hypothesis:\n",
    "**If dextromethorphan is known to behave similarly to ketamine in its activity as an NMDA receptor antagonist, then ketamine and dextromethorphan will have similar chemical structures and will equally dock with the NMDA receptor in a similar location when being used as an antidepressant.**"
   ]
  },
  {
   "cell_type": "markdown",
   "id": "75b27dc1",
   "metadata": {},
   "source": [
    "The two compound structures of ketamine and dextromethorphan were downloaded from PubChem and saved as a SDF file, which was used in both the fingerprinting similarity analysis as well as the table displaying the structures and data from PubChem of both compounds. "
   ]
  },
  {
   "cell_type": "markdown",
   "id": "91d2a9c1",
   "metadata": {},
   "source": [
    "## Installing Packages"
   ]
  },
  {
   "cell_type": "code",
   "execution_count": 4,
   "id": "20d04e23",
   "metadata": {},
   "outputs": [
    {
     "name": "stdout",
     "output_type": "stream",
     "text": [
      "Collecting package metadata (current_repodata.json): done\n",
      "Solving environment: done\n",
      "\n",
      "# All requested packages already installed.\n",
      "\n",
      "\n",
      "Note: you may need to restart the kernel to use updated packages.\n"
     ]
    }
   ],
   "source": [
    "conda install -c bioconda pubchempy"
   ]
  },
  {
   "cell_type": "code",
   "execution_count": 5,
   "id": "d01b4de0",
   "metadata": {},
   "outputs": [
    {
     "name": "stdout",
     "output_type": "stream",
     "text": [
      "Collecting package metadata (current_repodata.json): done\n",
      "Solving environment: done\n",
      "\n",
      "# All requested packages already installed.\n",
      "\n",
      "\n",
      "Note: you may need to restart the kernel to use updated packages.\n"
     ]
    }
   ],
   "source": [
    "conda install -c rdkit rdkit"
   ]
  },
  {
   "cell_type": "code",
   "execution_count": 6,
   "id": "f743d96b",
   "metadata": {},
   "outputs": [
    {
     "name": "stdout",
     "output_type": "stream",
     "text": [
      "Collecting package metadata (current_repodata.json): done\n",
      "Solving environment: done\n",
      "\n",
      "# All requested packages already installed.\n",
      "\n",
      "\n",
      "Note: you may need to restart the kernel to use updated packages.\n"
     ]
    }
   ],
   "source": [
    "conda install -c conda-forge nglview"
   ]
  },
  {
   "cell_type": "code",
   "execution_count": 7,
   "id": "d89f6920",
   "metadata": {},
   "outputs": [
    {
     "name": "stdout",
     "output_type": "stream",
     "text": [
      "Collecting package metadata (current_repodata.json): done\n",
      "Solving environment: done\n",
      "\n",
      "# All requested packages already installed.\n",
      "\n",
      "\n",
      "Note: you may need to restart the kernel to use updated packages.\n"
     ]
    }
   ],
   "source": [
    "conda install -c conda-forge mols2grid"
   ]
  },
  {
   "cell_type": "code",
   "execution_count": 1,
   "id": "7cdd0a89",
   "metadata": {},
   "outputs": [
    {
     "name": "stderr",
     "output_type": "stream",
     "text": [
      "RDKit WARNING: [19:11:50] Enabling RDKit 2019.09.3 jupyter extensions\n"
     ]
    }
   ],
   "source": [
    "from rdkit import Chem \n",
    "from rdkit.Chem import rdMolAlign\n",
    "from rdkit.Chem.rdMolAlign import AlignMol\n",
    "from rdkit.Chem import rdmolfiles\n",
    "from rdkit.Chem import PandasTools\n",
    "from rdkit.Chem.rdmolfiles import ForwardSDMolSupplier\n",
    "import pandas as pd \n",
    "import mols2grid\n",
    "import numpy as np\n",
    "import itertools"
   ]
  },
  {
   "cell_type": "markdown",
   "id": "79b46467",
   "metadata": {},
   "source": [
    "## Bioinformatics Method 1: Fingerprinting"
   ]
  },
  {
   "cell_type": "code",
   "execution_count": 2,
   "id": "c2cc14b2",
   "metadata": {},
   "outputs": [
    {
     "name": "stdout",
     "output_type": "stream",
     "text": [
      "  PUBCHEM_COMPOUND_CID PUBCHEM_CONFORMER_RMSD  \\\n",
      "0                 3821                    0.6   \n",
      "1              5360696                    0.6   \n",
      "\n",
      "              PUBCHEM_CONFORMER_DIVERSEORDER  \\\n",
      "0  2\\n3\\n11\\n12\\n9\\n8\\n5\\n10\\n4\\n1\\n6\\n13\\n7   \n",
      "1                                       1\\n2   \n",
      "\n",
      "                      PUBCHEM_MMFF94_PARTIAL_CHARGES  \\\n",
      "0  18\\n1 -0.18\\n10 -0.14\\n11 0.18\\n12 -0.15\\n13 0...   \n",
      "1  17\\n1 -0.36\\n10 0.14\\n11 0.27\\n14 -0.14\\n15 -0...   \n",
      "\n",
      "  PUBCHEM_EFFECTIVE_ROTOR_COUNT  \\\n",
      "0                             3   \n",
      "1                           2.6   \n",
      "\n",
      "                      PUBCHEM_PHARMACOPHORE_FEATURES PUBCHEM_HEAVY_ATOM_COUNT  \\\n",
      "0  5\\n1 2 acceptor\\n1 3 cation\\n1 3 donor\\n6 10 1...                       16   \n",
      "1  6\\n1 1 acceptor\\n1 2 cation\\n6 2 3 4 5 6 11 ri...                       20   \n",
      "\n",
      "  PUBCHEM_ATOM_DEF_STEREO_COUNT PUBCHEM_ATOM_UDEF_STEREO_COUNT  \\\n",
      "0                             0                              1   \n",
      "1                             3                              0   \n",
      "\n",
      "  PUBCHEM_BOND_DEF_STEREO_COUNT  ... PUBCHEM_CONFORMER_ID  \\\n",
      "0                             0  ...     00000EED00000002   \n",
      "1                             0  ...     0051CC3800000001   \n",
      "\n",
      "  PUBCHEM_MMFF94_ENERGY PUBCHEM_FEATURE_SELFOVERLAP  \\\n",
      "0               48.0121                      25.371   \n",
      "1               65.3106                      32.062   \n",
      "\n",
      "                           PUBCHEM_SHAPE_FINGERPRINT  \\\n",
      "0  12251169 10 18114454643283242456\\n12326174 3 1...   \n",
      "1  10382601 240 18339076102741212184\\n10863032 1 ...   \n",
      "\n",
      "                            PUBCHEM_SHAPE_MULTIPOLES  \\\n",
      "0  320.29\\n4.06\\n2.27\\n1.72\\n1.26\\n0.36\\n-0.98\\n-...   \n",
      "1  400.74\\n5.6\\n3.06\\n1.56\\n9.27\\n1.48\\n-0.17\\n-2...   \n",
      "\n",
      "  PUBCHEM_SHAPE_SELFOVERLAP PUBCHEM_SHAPE_VOLUME PUBCHEM_COORDINATE_TYPE  \\\n",
      "0                   668.351                181.2                2\\n5\\n10   \n",
      "1                   868.303                216.6                2\\n5\\n10   \n",
      "\n",
      "        ID                                              ROMol  \n",
      "0     3821  <img data-content=\"rdkit/molecule\" src=\"data:i...  \n",
      "1  5360696  <img data-content=\"rdkit/molecule\" src=\"data:i...  \n",
      "\n",
      "[2 rows x 24 columns]\n"
     ]
    },
    {
     "name": "stderr",
     "output_type": "stream",
     "text": [
      "RDKit ERROR: [19:11:55] ERROR: Counts line too short: '' on line467\n"
     ]
    }
   ],
   "source": [
    "m = Chem.SDMolSupplier('ketamine_SDF')\n",
    "SDFFile= 'ketamine_SDF'\n",
    "Ketamine=PandasTools.LoadSDF(SDFFile)\n",
    "prot_len = len(Ketamine)\n",
    "print(Ketamine)"
   ]
  },
  {
   "cell_type": "code",
   "execution_count": null,
   "id": "c7cda992",
   "metadata": {},
   "outputs": [],
   "source": []
  },
  {
   "cell_type": "code",
   "execution_count": 3,
   "id": "0626eb1d",
   "metadata": {
    "scrolled": true
   },
   "outputs": [
    {
     "name": "stdout",
     "output_type": "stream",
     "text": [
      "None\n"
     ]
    }
   ],
   "source": [
    "def Molecules2FingerPrints(molecules):\n",
    "    fingers= [Chem.RDKFingerprint(x) for x in molecules]\n",
    "    fingers_matrix= np.empty(shape=prot_len)\n",
    "    for i, j in itertools.product(range(prot_len, prot_len)):\n",
    "        fingers_matrix[i,j] = DataStructs.FingerprintSimilarity(fingers[i], fingers[j])\n",
    "        return (fingers_matrix)\n",
    "Analysis_Matrix=Molecules2FingerPrints(m)\n",
    "print(Analysis_Matrix)"
   ]
  },
  {
   "cell_type": "markdown",
   "id": "911ed79e",
   "metadata": {},
   "source": [
    "## Cheminformatics Method 2: Chemical Structure Table Display"
   ]
  },
  {
   "cell_type": "code",
   "execution_count": 4,
   "id": "a3c3047f",
   "metadata": {
    "scrolled": true
   },
   "outputs": [
    {
     "data": {
      "text/html": [
       "<iframe class=\"mols2grid-iframe\" width=100% height=\"890\" frameborder=\"0\" srcdoc=\"&lt;html&gt;\n",
       "  &lt;meta charset=&quot;utf-8&quot;&gt;\n",
       "  &lt;head&gt;\n",
       "    &lt;style&gt;\n",
       "      #mols2grid.gridcontainer {\n",
       "        display: block;\n",
       "        padding-left: 1em;\n",
       "        max-width: 820px;\n",
       "        width: 820px;\n",
       "      }\n",
       "      #mols2grid .cell {\n",
       "        border: 1px solid #cccccc;\n",
       "        text-align: center;\n",
       "        vertical-align: top;\n",
       "        max-width: 160px;\n",
       "        width: 160px;\n",
       "        font-family: &#x27;DejaVu&#x27;, sans-serif;\n",
       "        font-size: 12pt;\n",
       "        padding: 0;\n",
       "        margin: 0;\n",
       "        float: left;\n",
       "      }\n",
       "      #mols2grid .cell:hover {\n",
       "        background-color: #e7e7e7;\n",
       "      }\n",
       "      #mols2grid .cell img, #mols2grid .cell svg {\n",
       "        max-width: 100%;\n",
       "        height: auto;\n",
       "        padding: 0;\n",
       "      }\n",
       "      #mols2grid .data {\n",
       "        overflow: hidden;\n",
       "        white-space: nowrap;\n",
       "        text-overflow: ellipsis;\n",
       "        display: block;\n",
       "      }\n",
       "      #mols2grid .arrow-asc:after {\n",
       "        content: &#x27;↑&#x27;;\n",
       "        text-align: right;\n",
       "        float:right;\n",
       "      }\n",
       "      #mols2grid .arrow-desc:after {\n",
       "        content: &#x27;↓&#x27;;\n",
       "        text-align: right;\n",
       "        float:right;\n",
       "      }\n",
       "    &lt;/style&gt;\n",
       "    &lt;script src=&quot;https://cdnjs.cloudflare.com/ajax/libs/list.js/2.3.1/list.min.js&quot;&gt;&lt;/script&gt;\n",
       "    &lt;link rel=&quot;stylesheet&quot; href=&quot;https://cdn.jsdelivr.net/npm/bootstrap@4.6.0/dist/css/bootstrap.min.css&quot; integrity=&quot;sha384-B0vP5xmATw1+K9KRQjQERJvTumQW0nPEzvF6L/Z6nronJ3oUOFUFpCjEUQouq2+l&quot; crossorigin=&quot;anonymous&quot;&gt;\n",
       "    &lt;script src=&quot;https://code.jquery.com/jquery-3.5.1.slim.min.js&quot; integrity=&quot;sha384-DfXdz2htPH0lsSSs5nCTpuj/zy4C+OGpamoFVy38MVBnE+IbbVYUew+OrCXaRkfj&quot; crossorigin=&quot;anonymous&quot;&gt;&lt;/script&gt;\n",
       "    &lt;script src=&quot;https://cdn.jsdelivr.net/npm/bootstrap@4.6.0/dist/js/bootstrap.bundle.min.js&quot; integrity=&quot;sha384-Piv4xVNRyMGpqkS2by6br4gNJ7DXjqk09RmUpJ8jgGtD7zP9yug3goQfGII0yAns&quot; crossorigin=&quot;anonymous&quot;&gt;&lt;/script&gt;\n",
       "    &lt;script src=&quot;https://unpkg.com/@rdkit/rdkit@2021.3.2/Code/MinimalLib/dist/RDKit_minimal.js&quot;&gt;&lt;/script&gt;\n",
       "  &lt;/head&gt;\n",
       "  &lt;body&gt;\n",
       "    &lt;div id=&quot;mols2grid&quot; class=&quot;gridcontainer&quot;&gt;\n",
       "      &lt;div class=&quot;row&quot;&gt;\n",
       "        &lt;div class=&quot;list&quot;&gt;&lt;div class=&quot;cell&quot; data-mols2grid-id=&quot;0&quot;&gt;&lt;input type=&quot;checkbox&quot; class=&quot;position-relative float-left&quot;&gt;&lt;div class=&quot;data data-img&quot;&gt;&lt;/div&gt;&lt;div class=&quot;data data-SMILES&quot;&gt;&lt;/div&gt;&lt;div class=&quot;data data-_Name&quot;&gt;&lt;/div&gt;&lt;div class=&quot;data data-_MolFileInfo&quot;&gt;&lt;/div&gt;&lt;div class=&quot;data data-_MolFileComments&quot;&gt;&lt;/div&gt;&lt;div class=&quot;data data-_MolFileChiralFlag&quot;&gt;&lt;/div&gt;&lt;div class=&quot;data data-PUBCHEM_COMPOUND_CID&quot;&gt;&lt;/div&gt;&lt;div class=&quot;data data-PUBCHEM_CONFORMER_RMSD&quot;&gt;&lt;/div&gt;&lt;div class=&quot;data data-PUBCHEM_CONFORMER_DIVERSEORDER&quot;&gt;&lt;/div&gt;&lt;div class=&quot;data data-PUBCHEM_MMFF94_PARTIAL_CHARGES&quot;&gt;&lt;/div&gt;&lt;div class=&quot;data data-PUBCHEM_EFFECTIVE_ROTOR_COUNT&quot;&gt;&lt;/div&gt;&lt;div class=&quot;data data-PUBCHEM_PHARMACOPHORE_FEATURES&quot;&gt;&lt;/div&gt;&lt;div class=&quot;data data-PUBCHEM_HEAVY_ATOM_COUNT&quot;&gt;&lt;/div&gt;&lt;div class=&quot;data data-PUBCHEM_ATOM_DEF_STEREO_COUNT&quot;&gt;&lt;/div&gt;&lt;div class=&quot;data data-PUBCHEM_ATOM_UDEF_STEREO_COUNT&quot;&gt;&lt;/div&gt;&lt;div class=&quot;data data-PUBCHEM_BOND_DEF_STEREO_COUNT&quot;&gt;&lt;/div&gt;&lt;div class=&quot;data data-PUBCHEM_BOND_UDEF_STEREO_COUNT&quot;&gt;&lt;/div&gt;&lt;div class=&quot;data data-PUBCHEM_ISOTOPIC_ATOM_COUNT&quot;&gt;&lt;/div&gt;&lt;div class=&quot;data data-PUBCHEM_COMPONENT_COUNT&quot;&gt;&lt;/div&gt;&lt;div class=&quot;data data-PUBCHEM_CACTVS_TAUTO_COUNT&quot;&gt;&lt;/div&gt;&lt;div class=&quot;data data-PUBCHEM_CONFORMER_ID&quot;&gt;&lt;/div&gt;&lt;div class=&quot;data data-PUBCHEM_MMFF94_ENERGY&quot;&gt;&lt;/div&gt;&lt;div class=&quot;data data-PUBCHEM_FEATURE_SELFOVERLAP&quot;&gt;&lt;/div&gt;&lt;div class=&quot;data data-PUBCHEM_SHAPE_FINGERPRINT&quot;&gt;&lt;/div&gt;&lt;div class=&quot;data data-PUBCHEM_SHAPE_MULTIPOLES&quot;&gt;&lt;/div&gt;&lt;div class=&quot;data data-PUBCHEM_SHAPE_SELFOVERLAP&quot;&gt;&lt;/div&gt;&lt;div class=&quot;data data-PUBCHEM_SHAPE_VOLUME&quot;&gt;&lt;/div&gt;&lt;div class=&quot;data data-PUBCHEM_COORDINATE_TYPE&quot;&gt;&lt;/div&gt;&lt;div class=&quot;data data-mols2grid-id-copy&quot;&gt;&lt;/div&gt;&lt;/div&gt;&lt;/div&gt;\n",
       "      &lt;/div&gt;\n",
       "      &lt;div class=&quot;row&quot;&gt;\n",
       "        &lt;ul class=&quot;pagination pt-3 pl-3 col&quot;&gt;&lt;/ul&gt;\n",
       "        &lt;div class=&quot;dropdown float-right col-1 py-3 mr-4&quot;&gt;\n",
       "          &lt;button class=&quot;btn btn-light dropdown-toggle&quot; type=&quot;button&quot; id=&quot;sortDropdown&quot; data-toggle=&quot;dropdown&quot; aria-haspopup=&quot;true&quot; aria-expanded=&quot;false&quot;&gt;\n",
       "            Sort by\n",
       "          &lt;/button&gt;\n",
       "          &lt;div class=&quot;dropdown-menu&quot; aria-labelledby=&quot;sortDropdownMenu&quot;&gt;\n",
       "            \n",
       "            \n",
       "            &lt;button class=&quot;dropdown-item sort-btn arrow-asc active&quot; type=&quot;button&quot; data-name=&quot;mols2grid-id&quot;&gt;Index&lt;/button&gt;\n",
       "            \n",
       "            \n",
       "            \n",
       "            &lt;button class=&quot;dropdown-item sort-btn&quot; type=&quot;button&quot; data-name=&quot;data-SMILES&quot;&gt;Smiles&lt;/button&gt;\n",
       "            \n",
       "            \n",
       "            \n",
       "            &lt;button class=&quot;dropdown-item sort-btn&quot; type=&quot;button&quot; data-name=&quot;data-_Name&quot;&gt;_name&lt;/button&gt;\n",
       "            \n",
       "            \n",
       "            \n",
       "            &lt;button class=&quot;dropdown-item sort-btn&quot; type=&quot;button&quot; data-name=&quot;data-_MolFileInfo&quot;&gt;_molfileinfo&lt;/button&gt;\n",
       "            \n",
       "            \n",
       "            \n",
       "            &lt;button class=&quot;dropdown-item sort-btn&quot; type=&quot;button&quot; data-name=&quot;data-_MolFileComments&quot;&gt;_molfilecomments&lt;/button&gt;\n",
       "            \n",
       "            \n",
       "            \n",
       "            &lt;button class=&quot;dropdown-item sort-btn&quot; type=&quot;button&quot; data-name=&quot;data-_MolFileChiralFlag&quot;&gt;_molfilechiralflag&lt;/button&gt;\n",
       "            \n",
       "            \n",
       "            \n",
       "            &lt;button class=&quot;dropdown-item sort-btn&quot; type=&quot;button&quot; data-name=&quot;data-PUBCHEM_COMPOUND_CID&quot;&gt;Pubchem_compound_cid&lt;/button&gt;\n",
       "            \n",
       "            \n",
       "            \n",
       "            &lt;button class=&quot;dropdown-item sort-btn&quot; type=&quot;button&quot; data-name=&quot;data-PUBCHEM_CONFORMER_RMSD&quot;&gt;Pubchem_conformer_rmsd&lt;/button&gt;\n",
       "            \n",
       "            \n",
       "            \n",
       "            &lt;button class=&quot;dropdown-item sort-btn&quot; type=&quot;button&quot; data-name=&quot;data-PUBCHEM_CONFORMER_DIVERSEORDER&quot;&gt;Pubchem_conformer_diverseorder&lt;/button&gt;\n",
       "            \n",
       "            \n",
       "            \n",
       "            &lt;button class=&quot;dropdown-item sort-btn&quot; type=&quot;button&quot; data-name=&quot;data-PUBCHEM_MMFF94_PARTIAL_CHARGES&quot;&gt;Pubchem_mmff94_partial_charges&lt;/button&gt;\n",
       "            \n",
       "            \n",
       "            \n",
       "            &lt;button class=&quot;dropdown-item sort-btn&quot; type=&quot;button&quot; data-name=&quot;data-PUBCHEM_EFFECTIVE_ROTOR_COUNT&quot;&gt;Pubchem_effective_rotor_count&lt;/button&gt;\n",
       "            \n",
       "            \n",
       "            \n",
       "            &lt;button class=&quot;dropdown-item sort-btn&quot; type=&quot;button&quot; data-name=&quot;data-PUBCHEM_PHARMACOPHORE_FEATURES&quot;&gt;Pubchem_pharmacophore_features&lt;/button&gt;\n",
       "            \n",
       "            \n",
       "            \n",
       "            &lt;button class=&quot;dropdown-item sort-btn&quot; type=&quot;button&quot; data-name=&quot;data-PUBCHEM_HEAVY_ATOM_COUNT&quot;&gt;Pubchem_heavy_atom_count&lt;/button&gt;\n",
       "            \n",
       "            \n",
       "            \n",
       "            &lt;button class=&quot;dropdown-item sort-btn&quot; type=&quot;button&quot; data-name=&quot;data-PUBCHEM_ATOM_DEF_STEREO_COUNT&quot;&gt;Pubchem_atom_def_stereo_count&lt;/button&gt;\n",
       "            \n",
       "            \n",
       "            \n",
       "            &lt;button class=&quot;dropdown-item sort-btn&quot; type=&quot;button&quot; data-name=&quot;data-PUBCHEM_ATOM_UDEF_STEREO_COUNT&quot;&gt;Pubchem_atom_udef_stereo_count&lt;/button&gt;\n",
       "            \n",
       "            \n",
       "            \n",
       "            &lt;button class=&quot;dropdown-item sort-btn&quot; type=&quot;button&quot; data-name=&quot;data-PUBCHEM_BOND_DEF_STEREO_COUNT&quot;&gt;Pubchem_bond_def_stereo_count&lt;/button&gt;\n",
       "            \n",
       "            \n",
       "            \n",
       "            &lt;button class=&quot;dropdown-item sort-btn&quot; type=&quot;button&quot; data-name=&quot;data-PUBCHEM_BOND_UDEF_STEREO_COUNT&quot;&gt;Pubchem_bond_udef_stereo_count&lt;/button&gt;\n",
       "            \n",
       "            \n",
       "            \n",
       "            &lt;button class=&quot;dropdown-item sort-btn&quot; type=&quot;button&quot; data-name=&quot;data-PUBCHEM_ISOTOPIC_ATOM_COUNT&quot;&gt;Pubchem_isotopic_atom_count&lt;/button&gt;\n",
       "            \n",
       "            \n",
       "            \n",
       "            &lt;button class=&quot;dropdown-item sort-btn&quot; type=&quot;button&quot; data-name=&quot;data-PUBCHEM_COMPONENT_COUNT&quot;&gt;Pubchem_component_count&lt;/button&gt;\n",
       "            \n",
       "            \n",
       "            \n",
       "            &lt;button class=&quot;dropdown-item sort-btn&quot; type=&quot;button&quot; data-name=&quot;data-PUBCHEM_CACTVS_TAUTO_COUNT&quot;&gt;Pubchem_cactvs_tauto_count&lt;/button&gt;\n",
       "            \n",
       "            \n",
       "            \n",
       "            &lt;button class=&quot;dropdown-item sort-btn&quot; type=&quot;button&quot; data-name=&quot;data-PUBCHEM_CONFORMER_ID&quot;&gt;Pubchem_conformer_id&lt;/button&gt;\n",
       "            \n",
       "            \n",
       "            \n",
       "            &lt;button class=&quot;dropdown-item sort-btn&quot; type=&quot;button&quot; data-name=&quot;data-PUBCHEM_MMFF94_ENERGY&quot;&gt;Pubchem_mmff94_energy&lt;/button&gt;\n",
       "            \n",
       "            \n",
       "            \n",
       "            &lt;button class=&quot;dropdown-item sort-btn&quot; type=&quot;button&quot; data-name=&quot;data-PUBCHEM_FEATURE_SELFOVERLAP&quot;&gt;Pubchem_feature_selfoverlap&lt;/button&gt;\n",
       "            \n",
       "            \n",
       "            \n",
       "            &lt;button class=&quot;dropdown-item sort-btn&quot; type=&quot;button&quot; data-name=&quot;data-PUBCHEM_SHAPE_FINGERPRINT&quot;&gt;Pubchem_shape_fingerprint&lt;/button&gt;\n",
       "            \n",
       "            \n",
       "            \n",
       "            &lt;button class=&quot;dropdown-item sort-btn&quot; type=&quot;button&quot; data-name=&quot;data-PUBCHEM_SHAPE_MULTIPOLES&quot;&gt;Pubchem_shape_multipoles&lt;/button&gt;\n",
       "            \n",
       "            \n",
       "            \n",
       "            &lt;button class=&quot;dropdown-item sort-btn&quot; type=&quot;button&quot; data-name=&quot;data-PUBCHEM_SHAPE_SELFOVERLAP&quot;&gt;Pubchem_shape_selfoverlap&lt;/button&gt;\n",
       "            \n",
       "            \n",
       "            \n",
       "            &lt;button class=&quot;dropdown-item sort-btn&quot; type=&quot;button&quot; data-name=&quot;data-PUBCHEM_SHAPE_VOLUME&quot;&gt;Pubchem_shape_volume&lt;/button&gt;\n",
       "            \n",
       "            \n",
       "            \n",
       "            &lt;button class=&quot;dropdown-item sort-btn&quot; type=&quot;button&quot; data-name=&quot;data-PUBCHEM_COORDINATE_TYPE&quot;&gt;Pubchem_coordinate_type&lt;/button&gt;\n",
       "            \n",
       "            \n",
       "            \n",
       "            &lt;button class=&quot;dropdown-item sort-btn&quot; type=&quot;button&quot; data-name=&quot;data-mols2grid-id&quot;&gt;Mols2grid-id&lt;/button&gt;\n",
       "            \n",
       "            \n",
       "          &lt;/div&gt;\n",
       "        &lt;/div&gt;\n",
       "        &lt;div class=&quot;input-group float-right col-4 py-3 mr-3 ml-2&quot;&gt;\n",
       "          &lt;input type=&quot;text&quot; id=&quot;searchbar&quot; class=&quot;form-control&quot; placeholder=&quot;Search&quot; aria-label=&quot;Search&quot; aria-describedby=&quot;basic-addon1&quot;&gt;\n",
       "          &lt;div class=&quot;input-group-append&quot;&gt;\n",
       "            &lt;button id=&quot;searchBtn&quot; class=&quot;btn btn-light dropdown-toggle&quot; type=&quot;button&quot; data-toggle=&quot;dropdown&quot; aria-haspopup=&quot;true&quot; aria-expanded=&quot;false&quot;&gt;🔎&lt;/button&gt;\n",
       "            &lt;div class=&quot;dropdown-menu dropdown-menu-right&quot;&gt;\n",
       "              &lt;button id=&quot;txtSearch&quot; class=&quot;search-btn dropdown-item active&quot;&gt;Text&lt;/button&gt;\n",
       "              &lt;button id=&quot;smartsSearch&quot; class=&quot;search-btn dropdown-item&quot;&gt;SMARTS&lt;/button&gt;\n",
       "            &lt;/div&gt;\n",
       "          &lt;/div&gt;\n",
       "        &lt;/div&gt;\n",
       "      &lt;/div&gt;\n",
       "    &lt;/div&gt;\n",
       "    &lt;script&gt;\n",
       "      // RDKit\n",
       "      onRuntimeInitialized: initRDKitModule().then(function(instance) {\n",
       "        RDKitModule = instance;\n",
       "        console.log(&#x27;RDKit version: &#x27; + RDKitModule.version());\n",
       "      });\n",
       "      // pages\n",
       "      var listObj = new List(&#x27;mols2grid&#x27;,\n",
       "        {\n",
       "          valueNames: [{data: [&#x27;mols2grid-id&#x27;]}, &#x27;data-PUBCHEM_ATOM_DEF_STEREO_COUNT&#x27;, &#x27;data-PUBCHEM_SHAPE_VOLUME&#x27;, &#x27;data-PUBCHEM_CONFORMER_RMSD&#x27;, &#x27;data-PUBCHEM_CONFORMER_ID&#x27;, &#x27;data-PUBCHEM_CACTVS_TAUTO_COUNT&#x27;, &#x27;data-PUBCHEM_ISOTOPIC_ATOM_COUNT&#x27;, &#x27;data-_MolFileChiralFlag&#x27;, &#x27;data-PUBCHEM_COMPOUND_CID&#x27;, &#x27;data-PUBCHEM_EFFECTIVE_ROTOR_COUNT&#x27;, &#x27;data-PUBCHEM_HEAVY_ATOM_COUNT&#x27;, &#x27;data-PUBCHEM_SHAPE_SELFOVERLAP&#x27;, &#x27;data-PUBCHEM_MMFF94_PARTIAL_CHARGES&#x27;, &#x27;data-PUBCHEM_BOND_UDEF_STEREO_COUNT&#x27;, &#x27;data-_Name&#x27;, &#x27;data-_MolFileComments&#x27;, &#x27;data-PUBCHEM_COMPONENT_COUNT&#x27;, &#x27;data-SMILES&#x27;, &#x27;data-PUBCHEM_BOND_DEF_STEREO_COUNT&#x27;, &#x27;data-PUBCHEM_SHAPE_FINGERPRINT&#x27;, &#x27;data-PUBCHEM_FEATURE_SELFOVERLAP&#x27;, &#x27;data-img&#x27;, &#x27;data-PUBCHEM_PHARMACOPHORE_FEATURES&#x27;, &#x27;data-PUBCHEM_SHAPE_MULTIPOLES&#x27;, &#x27;data-PUBCHEM_CONFORMER_DIVERSEORDER&#x27;, &#x27;data-mols2grid-id&#x27;, &#x27;data-_MolFileInfo&#x27;, &#x27;data-PUBCHEM_ATOM_UDEF_STEREO_COUNT&#x27;, &#x27;data-PUBCHEM_MMFF94_ENERGY&#x27;, &#x27;data-PUBCHEM_COORDINATE_TYPE&#x27;, &#x27;data-mols2grid-id-copy&#x27;],\n",
       "          item: &#x27;&lt;div class=&quot;cell&quot; data-mols2grid-id=&quot;0&quot;&gt;&lt;input type=&quot;checkbox&quot; class=&quot;position-relative float-left&quot;&gt;&lt;div class=&quot;data data-img&quot;&gt;&lt;/div&gt;&lt;div class=&quot;data data-SMILES&quot;&gt;&lt;/div&gt;&lt;div class=&quot;data data-_Name&quot;&gt;&lt;/div&gt;&lt;div class=&quot;data data-_MolFileInfo&quot;&gt;&lt;/div&gt;&lt;div class=&quot;data data-_MolFileComments&quot;&gt;&lt;/div&gt;&lt;div class=&quot;data data-_MolFileChiralFlag&quot;&gt;&lt;/div&gt;&lt;div class=&quot;data data-PUBCHEM_COMPOUND_CID&quot;&gt;&lt;/div&gt;&lt;div class=&quot;data data-PUBCHEM_CONFORMER_RMSD&quot;&gt;&lt;/div&gt;&lt;div class=&quot;data data-PUBCHEM_CONFORMER_DIVERSEORDER&quot;&gt;&lt;/div&gt;&lt;div class=&quot;data data-PUBCHEM_MMFF94_PARTIAL_CHARGES&quot;&gt;&lt;/div&gt;&lt;div class=&quot;data data-PUBCHEM_EFFECTIVE_ROTOR_COUNT&quot;&gt;&lt;/div&gt;&lt;div class=&quot;data data-PUBCHEM_PHARMACOPHORE_FEATURES&quot;&gt;&lt;/div&gt;&lt;div class=&quot;data data-PUBCHEM_HEAVY_ATOM_COUNT&quot;&gt;&lt;/div&gt;&lt;div class=&quot;data data-PUBCHEM_ATOM_DEF_STEREO_COUNT&quot;&gt;&lt;/div&gt;&lt;div class=&quot;data data-PUBCHEM_ATOM_UDEF_STEREO_COUNT&quot;&gt;&lt;/div&gt;&lt;div class=&quot;data data-PUBCHEM_BOND_DEF_STEREO_COUNT&quot;&gt;&lt;/div&gt;&lt;div class=&quot;data data-PUBCHEM_BOND_UDEF_STEREO_COUNT&quot;&gt;&lt;/div&gt;&lt;div class=&quot;data data-PUBCHEM_ISOTOPIC_ATOM_COUNT&quot;&gt;&lt;/div&gt;&lt;div class=&quot;data data-PUBCHEM_COMPONENT_COUNT&quot;&gt;&lt;/div&gt;&lt;div class=&quot;data data-PUBCHEM_CACTVS_TAUTO_COUNT&quot;&gt;&lt;/div&gt;&lt;div class=&quot;data data-PUBCHEM_CONFORMER_ID&quot;&gt;&lt;/div&gt;&lt;div class=&quot;data data-PUBCHEM_MMFF94_ENERGY&quot;&gt;&lt;/div&gt;&lt;div class=&quot;data data-PUBCHEM_FEATURE_SELFOVERLAP&quot;&gt;&lt;/div&gt;&lt;div class=&quot;data data-PUBCHEM_SHAPE_FINGERPRINT&quot;&gt;&lt;/div&gt;&lt;div class=&quot;data data-PUBCHEM_SHAPE_MULTIPOLES&quot;&gt;&lt;/div&gt;&lt;div class=&quot;data data-PUBCHEM_SHAPE_SELFOVERLAP&quot;&gt;&lt;/div&gt;&lt;div class=&quot;data data-PUBCHEM_SHAPE_VOLUME&quot;&gt;&lt;/div&gt;&lt;div class=&quot;data data-PUBCHEM_COORDINATE_TYPE&quot;&gt;&lt;/div&gt;&lt;div class=&quot;data data-mols2grid-id-copy&quot;&gt;&lt;/div&gt;&lt;/div&gt;&#x27;,\n",
       "          page: 15,\n",
       "          pagination: {\n",
       "            name: &quot;pagination&quot;,\n",
       "            item: &#x27;&lt;li class=&quot;page-item&quot;&gt;&lt;a class=&quot;page page-link&quot; href=&quot;#&quot; onclick=&quot;event.preventDefault()&quot;&gt;&lt;/a&gt;&lt;/li&gt;&#x27;,\n",
       "            innerWindow: 1,\n",
       "            outerWindow: 1,\n",
       "          },\n",
       "        }\n",
       "      );\n",
       "      listObj.remove(&quot;mols2grid-id&quot;, &quot;0&quot;)\n",
       "      listObj.add([{&quot;data-PUBCHEM_ATOM_DEF_STEREO_COUNT&quot;: 0, &quot;data-PUBCHEM_SHAPE_VOLUME&quot;: 181.2, &quot;data-PUBCHEM_CONFORMER_RMSD&quot;: 0.6, &quot;data-PUBCHEM_CONFORMER_ID&quot;: &quot;00000EED00000002&quot;, &quot;data-PUBCHEM_CACTVS_TAUTO_COUNT&quot;: 2, &quot;data-PUBCHEM_ISOTOPIC_ATOM_COUNT&quot;: 0, &quot;data-_MolFileChiralFlag&quot;: 1, &quot;data-PUBCHEM_COMPOUND_CID&quot;: 3821, &quot;data-PUBCHEM_EFFECTIVE_ROTOR_COUNT&quot;: 3.0, &quot;data-PUBCHEM_HEAVY_ATOM_COUNT&quot;: 16, &quot;data-PUBCHEM_SHAPE_SELFOVERLAP&quot;: 668.351, &quot;data-PUBCHEM_MMFF94_PARTIAL_CHARGES&quot;: &quot;18\\n1 -0.18\\n10 -0.14\\n11 0.18\\n12 -0.15\\n13 0.27\\n14 -0.15\\n15 -0.15\\n16 -0.15\\n2 -0.57\\n25 0.36\\n26 0.15\\n3 -0.9\\n30 0.15\\n31 0.15\\n32 0.15\\n4 0.47\\n8 0.45\\n9 0.06&quot;, &quot;data-PUBCHEM_BOND_UDEF_STEREO_COUNT&quot;: 0, &quot;data-_Name&quot;: 3821, &quot;data-_MolFileComments&quot;: &quot;&quot;, &quot;data-PUBCHEM_COMPONENT_COUNT&quot;: 1, &quot;data-SMILES&quot;: &quot;CNC1(c2ccccc2Cl)CCCCC1=O&quot;, &quot;data-PUBCHEM_BOND_DEF_STEREO_COUNT&quot;: 0, &quot;data-PUBCHEM_SHAPE_FINGERPRINT&quot;: &quot;12251169 10 18114454643283242456\\n12326174 3 17844250618445228926\\n12382932 28 18261962971692595289\\n12423570 1 11736883608469052806\\n12696612 119 18187081745658068832\\n13027679 85 17109020236735557770\\n14787075 74 16022557106272895592\\n14817 1 15820434278744216215\\n15557651 10 17843971570288460576\\n15775835 57 18059004094340772392\\n15852999 172 18342454837864946989\\n16945 1 18261674882202582217\\n19765921 60 14907599208522059747\\n20361792 2 14418132885528269633\\n20511035 2 18342448219125119504\\n20559304 39 17750530498178134785\\n21524375 3 18201434839198117048\\n21947302 44 18200883868071904113\\n22112679 90 16475160046934613023\\n23419403 2 15473649488444331338\\n23526113 38 17768844998911480463\\n2748010 2 18188784855252587765\\n5845 1 14542576491970504014\\n68419 9 17913742154560708270\\n7364860 26 18336832991767341538\\n81228 2 16839646953299306942&quot;, &quot;data-PUBCHEM_FEATURE_SELFOVERLAP&quot;: 25.371, &quot;data-img&quot;: &quot;&lt;?xml version=&#x27;1.0&#x27; encoding=&#x27;iso-8859-1&#x27;?&gt;\\n&lt;svg version=&#x27;1.1&#x27; baseProfile=&#x27;full&#x27;\\n              xmlns=&#x27;http://www.w3.org/2000/svg&#x27;\\n                      xmlns:rdkit=&#x27;http://www.rdkit.org/xml&#x27;\\n                      xmlns:xlink=&#x27;http://www.w3.org/1999/xlink&#x27;\\n                  xml:space=&#x27;preserve&#x27;\\nwidth=&#x27;160px&#x27; height=&#x27;120px&#x27; viewBox=&#x27;0 0 160 120&#x27;&gt;\\n&lt;!-- END OF HEADER --&gt;\\n&lt;rect style=&#x27;opacity:1.0;fill:#FFFFFF;stroke:none&#x27; width=&#x27;160&#x27; height=&#x27;120&#x27; x=&#x27;0&#x27; y=&#x27;0&#x27;&gt; &lt;/rect&gt;\\n&lt;path class=&#x27;bond-0&#x27; d=&#x27;M 58.1448,106.151 L 53.2941,89.728&#x27; style=&#x27;fill:none;fill-rule:evenodd;stroke:#00CC00;stroke-width:2px;stroke-linecap:butt;stroke-linejoin:miter;stroke-opacity:1&#x27; /&gt;\\n&lt;path class=&#x27;bond-0&#x27; d=&#x27;M 53.2941,89.728 L 48.4435,73.305&#x27; style=&#x27;fill:none;fill-rule:evenodd;stroke:#000000;stroke-width:2px;stroke-linecap:butt;stroke-linejoin:miter;stroke-opacity:1&#x27; /&gt;\\n&lt;path class=&#x27;bond-1&#x27; d=&#x27;M 131.523,93.5828 L 129.313,82.4452&#x27; style=&#x27;fill:none;fill-rule:evenodd;stroke:#FF0000;stroke-width:2px;stroke-linecap:butt;stroke-linejoin:miter;stroke-opacity:1&#x27; /&gt;\\n&lt;path class=&#x27;bond-1&#x27; d=&#x27;M 129.313,82.4452 L 127.102,71.3076&#x27; style=&#x27;fill:none;fill-rule:evenodd;stroke:#000000;stroke-width:2px;stroke-linecap:butt;stroke-linejoin:miter;stroke-opacity:1&#x27; /&gt;\\n&lt;path class=&#x27;bond-1&#x27; d=&#x27;M 124.425,94.9917 L 122.214,83.8541&#x27; style=&#x27;fill:none;fill-rule:evenodd;stroke:#FF0000;stroke-width:2px;stroke-linecap:butt;stroke-linejoin:miter;stroke-opacity:1&#x27; /&gt;\\n&lt;path class=&#x27;bond-1&#x27; d=&#x27;M 122.214,83.8541 L 120.004,72.7165&#x27; style=&#x27;fill:none;fill-rule:evenodd;stroke:#000000;stroke-width:2px;stroke-linecap:butt;stroke-linejoin:miter;stroke-opacity:1&#x27; /&gt;\\n&lt;path class=&#x27;bond-2&#x27; d=&#x27;M 103.237,84.2569 L 103.672,73.1519&#x27; style=&#x27;fill:none;fill-rule:evenodd;stroke:#0000FF;stroke-width:2px;stroke-linecap:butt;stroke-linejoin:miter;stroke-opacity:1&#x27; /&gt;\\n&lt;path class=&#x27;bond-2&#x27; d=&#x27;M 103.672,73.1519 L 104.107,62.0468&#x27; style=&#x27;fill:none;fill-rule:evenodd;stroke:#000000;stroke-width:2px;stroke-linecap:butt;stroke-linejoin:miter;stroke-opacity:1&#x27; /&gt;\\n&lt;path class=&#x27;bond-3&#x27; d=&#x27;M 92.5458,85.9304 L 88.8511,84.3905&#x27; style=&#x27;fill:none;fill-rule:evenodd;stroke:#0000FF;stroke-width:2px;stroke-linecap:butt;stroke-linejoin:miter;stroke-opacity:1&#x27; /&gt;\\n&lt;path class=&#x27;bond-3&#x27; d=&#x27;M 88.8511,84.3905 L 85.1563,82.8505&#x27; style=&#x27;fill:none;fill-rule:evenodd;stroke:#000000;stroke-width:2px;stroke-linecap:butt;stroke-linejoin:miter;stroke-opacity:1&#x27; /&gt;\\n&lt;path class=&#x27;bond-4&#x27; d=&#x27;M 104.107,62.0468 L 124.802,36.2786&#x27; style=&#x27;fill:none;fill-rule:evenodd;stroke:#000000;stroke-width:2px;stroke-linecap:butt;stroke-linejoin:miter;stroke-opacity:1&#x27; /&gt;\\n&lt;path class=&#x27;bond-5&#x27; d=&#x27;M 104.107,62.0468 L 123.553,72.0121&#x27; style=&#x27;fill:none;fill-rule:evenodd;stroke:#000000;stroke-width:2px;stroke-linecap:butt;stroke-linejoin:miter;stroke-opacity:1&#x27; /&gt;\\n&lt;path class=&#x27;bond-6&#x27; d=&#x27;M 104.107,62.0468 L 69.6452,52.0237&#x27; style=&#x27;fill:none;fill-rule:evenodd;stroke:#000000;stroke-width:2px;stroke-linecap:butt;stroke-linejoin:miter;stroke-opacity:1&#x27; /&gt;\\n&lt;path class=&#x27;bond-7&#x27; d=&#x27;M 124.802,36.2786 L 134.022,7.8183&#x27; style=&#x27;fill:none;fill-rule:evenodd;stroke:#000000;stroke-width:2px;stroke-linecap:butt;stroke-linejoin:miter;stroke-opacity:1&#x27; /&gt;\\n&lt;path class=&#x27;bond-8&#x27; d=&#x27;M 134.022,7.8183 L 152.727,19.4359&#x27; style=&#x27;fill:none;fill-rule:evenodd;stroke:#000000;stroke-width:2px;stroke-linecap:butt;stroke-linejoin:miter;stroke-opacity:1&#x27; /&gt;\\n&lt;path class=&#x27;bond-9&#x27; d=&#x27;M 152.727,19.4359 L 134.126,44.9243&#x27; style=&#x27;fill:none;fill-rule:evenodd;stroke:#000000;stroke-width:2px;stroke-linecap:butt;stroke-linejoin:miter;stroke-opacity:1&#x27; /&gt;\\n&lt;path class=&#x27;bond-10&#x27; d=&#x27;M 123.553,72.0121 L 134.126,44.9243&#x27; style=&#x27;fill:none;fill-rule:evenodd;stroke:#000000;stroke-width:2px;stroke-linecap:butt;stroke-linejoin:miter;stroke-opacity:1&#x27; /&gt;\\n&lt;path class=&#x27;bond-11&#x27; d=&#x27;M 69.6452,52.0237 L 48.4435,73.305&#x27; style=&#x27;fill:none;fill-rule:evenodd;stroke:#000000;stroke-width:2px;stroke-linecap:butt;stroke-linejoin:miter;stroke-opacity:1&#x27; /&gt;\\n&lt;path class=&#x27;bond-11&#x27; d=&#x27;M 61.3381,50.1083 L 46.4969,65.0052&#x27; style=&#x27;fill:none;fill-rule:evenodd;stroke:#000000;stroke-width:2px;stroke-linecap:butt;stroke-linejoin:miter;stroke-opacity:1;stroke-dasharray:6,6&#x27; /&gt;\\n&lt;path class=&#x27;bond-12&#x27; d=&#x27;M 69.6452,52.0237 L 59.6534,20.7579&#x27; style=&#x27;fill:none;fill-rule:evenodd;stroke:#000000;stroke-width:2px;stroke-linecap:butt;stroke-linejoin:miter;stroke-opacity:1&#x27; /&gt;\\n&lt;path class=&#x27;bond-12&#x27; d=&#x27;M 61.253,49.5368 L 54.2588,27.6507&#x27; style=&#x27;fill:none;fill-rule:evenodd;stroke:#000000;stroke-width:2px;stroke-linecap:butt;stroke-linejoin:miter;stroke-opacity:1;stroke-dasharray:6,6&#x27; /&gt;\\n&lt;path class=&#x27;bond-13&#x27; d=&#x27;M 48.4435,73.305 L 17.2597,63.3205&#x27; style=&#x27;fill:none;fill-rule:evenodd;stroke:#000000;stroke-width:2px;stroke-linecap:butt;stroke-linejoin:miter;stroke-opacity:1&#x27; /&gt;\\n&lt;path class=&#x27;bond-13&#x27; d=&#x27;M 45.9727,64.9151 L 24.144,57.926&#x27; style=&#x27;fill:none;fill-rule:evenodd;stroke:#000000;stroke-width:2px;stroke-linecap:butt;stroke-linejoin:miter;stroke-opacity:1;stroke-dasharray:6,6&#x27; /&gt;\\n&lt;path class=&#x27;bond-14&#x27; d=&#x27;M 59.6534,20.7579 L 28.4696,10.7734&#x27; style=&#x27;fill:none;fill-rule:evenodd;stroke:#000000;stroke-width:2px;stroke-linecap:butt;stroke-linejoin:miter;stroke-opacity:1&#x27; /&gt;\\n&lt;path class=&#x27;bond-14&#x27; d=&#x27;M 52.7691,26.1524 L 30.9404,19.1633&#x27; style=&#x27;fill:none;fill-rule:evenodd;stroke:#000000;stroke-width:2px;stroke-linecap:butt;stroke-linejoin:miter;stroke-opacity:1;stroke-dasharray:6,6&#x27; /&gt;\\n&lt;path class=&#x27;bond-15&#x27; d=&#x27;M 17.2597,63.3205 L 7.27273,32.0571&#x27; style=&#x27;fill:none;fill-rule:evenodd;stroke:#000000;stroke-width:2px;stroke-linecap:butt;stroke-linejoin:miter;stroke-opacity:1&#x27; /&gt;\\n&lt;path class=&#x27;bond-15&#x27; d=&#x27;M 22.6553,56.4289 L 15.6645,34.5445&#x27; style=&#x27;fill:none;fill-rule:evenodd;stroke:#000000;stroke-width:2px;stroke-linecap:butt;stroke-linejoin:miter;stroke-opacity:1;stroke-dasharray:6,6&#x27; /&gt;\\n&lt;path class=&#x27;bond-16&#x27; d=&#x27;M 28.4696,10.7734 L 7.27273,32.0571&#x27; style=&#x27;fill:none;fill-rule:evenodd;stroke:#000000;stroke-width:2px;stroke-linecap:butt;stroke-linejoin:miter;stroke-opacity:1&#x27; /&gt;\\n&lt;path class=&#x27;bond-16&#x27; d=&#x27;M 30.4178,19.0727 L 15.58,33.9713&#x27; style=&#x27;fill:none;fill-rule:evenodd;stroke:#000000;stroke-width:2px;stroke-linecap:butt;stroke-linejoin:miter;stroke-opacity:1;stroke-dasharray:6,6&#x27; /&gt;\\n&lt;text x=&#x27;53.0917&#x27; y=&#x27;118.212&#x27; style=&#x27;font-size:12px;font-style:normal;font-weight:normal;fill-opacity:1;stroke:none;font-family:sans-serif;text-anchor:start;fill:#00CC00&#x27; &gt;&lt;tspan&gt;Cl&lt;/tspan&gt;&lt;/text&gt;\\n&lt;text x=&#x27;123.539&#x27; y=&#x27;106.349&#x27; style=&#x27;font-size:12px;font-style:normal;font-weight:normal;fill-opacity:1;stroke:none;font-family:sans-serif;text-anchor:start;fill:#FF0000&#x27; &gt;&lt;tspan&gt;O&lt;/tspan&gt;&lt;/text&gt;\\n&lt;text x=&#x27;92.5458&#x27; y=&#x27;96.3184&#x27; style=&#x27;font-size:12px;font-style:normal;font-weight:normal;fill-opacity:1;stroke:none;font-family:sans-serif;text-anchor:start;fill:#0000FF&#x27; &gt;&lt;tspan&gt;NH&lt;/tspan&gt;&lt;/text&gt;\\n&lt;/svg&gt;\\n&quot;, &quot;data-PUBCHEM_PHARMACOPHORE_FEATURES&quot;: &quot;5\\n1 2 acceptor\\n1 3 cation\\n1 3 donor\\n6 10 11 12 14 15 16 rings\\n6 4 5 6 7 8 9 rings&quot;, &quot;data-PUBCHEM_SHAPE_MULTIPOLES&quot;: &quot;320.29\\n4.06\\n2.27\\n1.72\\n1.26\\n0.36\\n-0.98\\n-1.88\\n1.57\\n0.17\\n0.11\\n-0.63\\n0.7\\n0.16&quot;, &quot;data-PUBCHEM_CONFORMER_DIVERSEORDER&quot;: &quot;2\\n3\\n11\\n12\\n9\\n8\\n5\\n10\\n4\\n1\\n6\\n13\\n7&quot;, &quot;mols2grid-id&quot;: 0, &quot;data-_MolFileInfo&quot;: &quot;  -OEChem-11292116143D&quot;, &quot;data-PUBCHEM_ATOM_UDEF_STEREO_COUNT&quot;: 1, &quot;data-PUBCHEM_MMFF94_ENERGY&quot;: 48.0121, &quot;data-PUBCHEM_COORDINATE_TYPE&quot;: &quot;2\\n5\\n10&quot;, &quot;data-mols2grid-id-copy&quot;: 0}, {&quot;data-PUBCHEM_ATOM_DEF_STEREO_COUNT&quot;: 3, &quot;data-PUBCHEM_SHAPE_VOLUME&quot;: 216.6, &quot;data-PUBCHEM_CONFORMER_RMSD&quot;: 0.6, &quot;data-PUBCHEM_CONFORMER_ID&quot;: &quot;0051CC3800000001&quot;, &quot;data-PUBCHEM_CACTVS_TAUTO_COUNT&quot;: 1, &quot;data-PUBCHEM_ISOTOPIC_ATOM_COUNT&quot;: 0, &quot;data-_MolFileChiralFlag&quot;: 1, &quot;data-PUBCHEM_COMPOUND_CID&quot;: 5360696, &quot;data-PUBCHEM_EFFECTIVE_ROTOR_COUNT&quot;: 2.6, &quot;data-PUBCHEM_HEAVY_ATOM_COUNT&quot;: 20, &quot;data-PUBCHEM_SHAPE_SELFOVERLAP&quot;: 868.303, &quot;data-PUBCHEM_MMFF94_PARTIAL_CHARGES&quot;: &quot;17\\n1 -0.36\\n10 0.14\\n11 0.27\\n14 -0.14\\n15 -0.15\\n16 0.27\\n17 -0.15\\n18 0.08\\n19 -0.15\\n2 -0.81\\n20 0.28\\n3 0.14\\n37 0.15\\n41 0.15\\n42 0.15\\n5 0.27\\n9 -0.14&quot;, &quot;data-PUBCHEM_BOND_UDEF_STEREO_COUNT&quot;: 0, &quot;data-_Name&quot;: 5360696, &quot;data-_MolFileComments&quot;: &quot;&quot;, &quot;data-PUBCHEM_COMPONENT_COUNT&quot;: 1, &quot;data-SMILES&quot;: &quot;COc1ccc2c(c1)C13CCCCC1C(C2)N(C)CC3&quot;, &quot;data-PUBCHEM_BOND_DEF_STEREO_COUNT&quot;: 0, &quot;data-PUBCHEM_SHAPE_FINGERPRINT&quot;: &quot;10382601 240 18339076102741212184\\n10863032 1 17680434643290057828\\n10948715 1 17829336031119817636\\n11086676 242 18271800168924175658\\n11578080 2 18125982902900741360\\n12326174 3 17896017997013996320\\n12423570 1 17261073963636728704\\n12644460 14 18268166386527012019\\n13004483 165 18120362169204692954\\n13009979 54 17916042182366981643\\n13134695 92 18340754966960670925\\n13140716 1 17981882252803612713\\n13583140 156 18186799214952742643\\n141345 1 10332548342206789404\\n14713325 29 16535684889643177180\\n14817 1 15589414916012189136\\n14955137 171 18339359777215626912\\n16945 1 18261684769480983372\\n17093844 170 17188135592002756433\\n17349148 13 17703211972095776543\\n17357779 13 17840286844677869069\\n17980427 23 15337397230077614585\\n1813 80 18266746775081789446\\n19765921 60 17979929524410654744\\n19930374 2 17330561942907356860\\n20233049 118 17632867446399865905\\n20511035 2 17702937166443790127\\n20559304 39 18343864437436051593\\n20600515 1 18129104424500291014\\n20645476 183 18199753716326832375\\n21041028 32 18262513689389402548\\n21524375 3 17466778703311422004\\n22112679 90 18049462352294173432\\n2255824 54 18337110171687150351\\n23419403 2 18053351376509002800\\n23559900 14 18408041819138312099\\n25 1 18045228377686540188\\n2748010 2 16179635978811643801\\n298252 57 17912943956200319124\\n31174 14 18187642535601227381\\n404807 14 14566433773760924322\\n430814 3 17830165071513882268\\n474 4 18044939227603388461\\n54040823 5 18337966639774268878\\n6442390 28 17541962217465195587\\n6786 2 17319603540131427532\\n7364860 26 18337670918332878760\\n81228 2 17835811797977166840&quot;, &quot;data-PUBCHEM_FEATURE_SELFOVERLAP&quot;: 32.062, &quot;data-img&quot;: &quot;&lt;?xml version=&#x27;1.0&#x27; encoding=&#x27;iso-8859-1&#x27;?&gt;\\n&lt;svg version=&#x27;1.1&#x27; baseProfile=&#x27;full&#x27;\\n              xmlns=&#x27;http://www.w3.org/2000/svg&#x27;\\n                      xmlns:rdkit=&#x27;http://www.rdkit.org/xml&#x27;\\n                      xmlns:xlink=&#x27;http://www.w3.org/1999/xlink&#x27;\\n                  xml:space=&#x27;preserve&#x27;\\nwidth=&#x27;160px&#x27; height=&#x27;120px&#x27; viewBox=&#x27;0 0 160 120&#x27;&gt;\\n&lt;!-- END OF HEADER --&gt;\\n&lt;rect style=&#x27;opacity:1.0;fill:#FFFFFF;stroke:none&#x27; width=&#x27;160&#x27; height=&#x27;120&#x27; x=&#x27;0&#x27; y=&#x27;0&#x27;&gt; &lt;/rect&gt;\\n&lt;path class=&#x27;bond-0&#x27; d=&#x27;M 31.6427,58.7946 L 40.2115,61.3667&#x27; style=&#x27;fill:none;fill-rule:evenodd;stroke:#FF0000;stroke-width:2px;stroke-linecap:butt;stroke-linejoin:miter;stroke-opacity:1&#x27; /&gt;\\n&lt;path class=&#x27;bond-0&#x27; d=&#x27;M 40.2115,61.3667 L 48.7802,63.9387&#x27; style=&#x27;fill:none;fill-rule:evenodd;stroke:#000000;stroke-width:2px;stroke-linecap:butt;stroke-linejoin:miter;stroke-opacity:1&#x27; /&gt;\\n&lt;path class=&#x27;bond-1&#x27; d=&#x27;M 23.4388,59.8044 L 15.3557,64.2204&#x27; style=&#x27;fill:none;fill-rule:evenodd;stroke:#FF0000;stroke-width:2px;stroke-linecap:butt;stroke-linejoin:miter;stroke-opacity:1&#x27; /&gt;\\n&lt;path class=&#x27;bond-1&#x27; d=&#x27;M 15.3557,64.2204 L 7.27273,68.6363&#x27; style=&#x27;fill:none;fill-rule:evenodd;stroke:#000000;stroke-width:2px;stroke-linecap:butt;stroke-linejoin:miter;stroke-opacity:1&#x27; /&gt;\\n&lt;path class=&#x27;bond-2&#x27; d=&#x27;M 142.942,85.4083 L 140.4,80.8504&#x27; style=&#x27;fill:none;fill-rule:evenodd;stroke:#0000FF;stroke-width:2px;stroke-linecap:butt;stroke-linejoin:miter;stroke-opacity:1&#x27; /&gt;\\n&lt;path class=&#x27;bond-2&#x27; d=&#x27;M 140.4,80.8504 L 137.858,76.2924&#x27; style=&#x27;fill:none;fill-rule:evenodd;stroke:#000000;stroke-width:2px;stroke-linecap:butt;stroke-linejoin:miter;stroke-opacity:1&#x27; /&gt;\\n&lt;path class=&#x27;bond-3&#x27; d=&#x27;M 141.584,89.6918 L 135.137,89.508&#x27; style=&#x27;fill:none;fill-rule:evenodd;stroke:#0000FF;stroke-width:2px;stroke-linecap:butt;stroke-linejoin:miter;stroke-opacity:1&#x27; /&gt;\\n&lt;path class=&#x27;bond-3&#x27; d=&#x27;M 135.137,89.508 L 128.689,89.3242&#x27; style=&#x27;fill:none;fill-rule:evenodd;stroke:#000000;stroke-width:2px;stroke-linecap:butt;stroke-linejoin:miter;stroke-opacity:1&#x27; /&gt;\\n&lt;path class=&#x27;bond-4&#x27; d=&#x27;M 146.736,94.1923 L 149.731,103.977&#x27; style=&#x27;fill:none;fill-rule:evenodd;stroke:#0000FF;stroke-width:2px;stroke-linecap:butt;stroke-linejoin:miter;stroke-opacity:1&#x27; /&gt;\\n&lt;path class=&#x27;bond-4&#x27; d=&#x27;M 149.731,103.977 L 152.727,113.761&#x27; style=&#x27;fill:none;fill-rule:evenodd;stroke:#000000;stroke-width:2px;stroke-linecap:butt;stroke-linejoin:miter;stroke-opacity:1&#x27; /&gt;\\n&lt;path class=&#x27;bond-5&#x27; d=&#x27;M 114.22,49.0904 L 134.525,50.4536&#x27; style=&#x27;fill:none;fill-rule:evenodd;stroke:#000000;stroke-width:2px;stroke-linecap:butt;stroke-linejoin:miter;stroke-opacity:1&#x27; /&gt;\\n&lt;path class=&#x27;bond-6&#x27; d=&#x27;M 114.22,49.0904 L 121.655,64.1302&#x27; style=&#x27;fill:none;fill-rule:evenodd;stroke:#000000;stroke-width:2px;stroke-linecap:butt;stroke-linejoin:miter;stroke-opacity:1&#x27; /&gt;\\n&lt;path class=&#x27;bond-7&#x27; d=&#x27;M 114.22,49.0904 L 111.757,23.0391&#x27; style=&#x27;fill:none;fill-rule:evenodd;stroke:#000000;stroke-width:2px;stroke-linecap:butt;stroke-linejoin:miter;stroke-opacity:1&#x27; /&gt;\\n&lt;path class=&#x27;bond-8&#x27; d=&#x27;M 114.22,49.0904 L 91.5157,59.8612&#x27; style=&#x27;fill:none;fill-rule:evenodd;stroke:#000000;stroke-width:2px;stroke-linecap:butt;stroke-linejoin:miter;stroke-opacity:1&#x27; /&gt;\\n&lt;path class=&#x27;bond-9&#x27; d=&#x27;M 134.525,50.4536 L 137.858,76.2924&#x27; style=&#x27;fill:none;fill-rule:evenodd;stroke:#000000;stroke-width:2px;stroke-linecap:butt;stroke-linejoin:miter;stroke-opacity:1&#x27; /&gt;\\n&lt;path class=&#x27;bond-10&#x27; d=&#x27;M 134.525,50.4536 L 130.957,33.6307&#x27; style=&#x27;fill:none;fill-rule:evenodd;stroke:#000000;stroke-width:2px;stroke-linecap:butt;stroke-linejoin:miter;stroke-opacity:1&#x27; /&gt;\\n&lt;path class=&#x27;bond-11&#x27; d=&#x27;M 137.858,76.2924 L 115.631,85.4171&#x27; style=&#x27;fill:none;fill-rule:evenodd;stroke:#000000;stroke-width:2px;stroke-linecap:butt;stroke-linejoin:miter;stroke-opacity:1&#x27; /&gt;\\n&lt;path class=&#x27;bond-12&#x27; d=&#x27;M 121.655,64.1302 L 128.689,89.3242&#x27; style=&#x27;fill:none;fill-rule:evenodd;stroke:#000000;stroke-width:2px;stroke-linecap:butt;stroke-linejoin:miter;stroke-opacity:1&#x27; /&gt;\\n&lt;path class=&#x27;bond-13&#x27; d=&#x27;M 111.757,23.0391 L 108.015,6.23895&#x27; style=&#x27;fill:none;fill-rule:evenodd;stroke:#000000;stroke-width:2px;stroke-linecap:butt;stroke-linejoin:miter;stroke-opacity:1&#x27; /&gt;\\n&lt;path class=&#x27;bond-14&#x27; d=&#x27;M 130.957,33.6307 L 127.735,8.33128&#x27; style=&#x27;fill:none;fill-rule:evenodd;stroke:#000000;stroke-width:2px;stroke-linecap:butt;stroke-linejoin:miter;stroke-opacity:1&#x27; /&gt;\\n&lt;path class=&#x27;bond-15&#x27; d=&#x27;M 91.5157,59.8612 L 92.6102,77.22&#x27; style=&#x27;fill:none;fill-rule:evenodd;stroke:#000000;stroke-width:2px;stroke-linecap:butt;stroke-linejoin:miter;stroke-opacity:1&#x27; /&gt;\\n&lt;path class=&#x27;bond-15&#x27; d=&#x27;M 94.8358,62.266 L 95.602,74.4172&#x27; style=&#x27;fill:none;fill-rule:evenodd;stroke:#000000;stroke-width:2px;stroke-linecap:butt;stroke-linejoin:miter;stroke-opacity:1;stroke-dasharray:6,6&#x27; /&gt;\\n&lt;path class=&#x27;bond-16&#x27; d=&#x27;M 91.5157,59.8612 L 69.3047,53.7915&#x27; style=&#x27;fill:none;fill-rule:evenodd;stroke:#000000;stroke-width:2px;stroke-linecap:butt;stroke-linejoin:miter;stroke-opacity:1&#x27; /&gt;\\n&lt;path class=&#x27;bond-16&#x27; d=&#x27;M 86.7948,64.0347 L 71.2471,59.7859&#x27; style=&#x27;fill:none;fill-rule:evenodd;stroke:#000000;stroke-width:2px;stroke-linecap:butt;stroke-linejoin:miter;stroke-opacity:1;stroke-dasharray:6,6&#x27; /&gt;\\n&lt;path class=&#x27;bond-17&#x27; d=&#x27;M 115.631,85.4171 L 92.6102,77.22&#x27; style=&#x27;fill:none;fill-rule:evenodd;stroke:#000000;stroke-width:2px;stroke-linecap:butt;stroke-linejoin:miter;stroke-opacity:1&#x27; /&gt;\\n&lt;path class=&#x27;bond-18&#x27; d=&#x27;M 108.015,6.23895 L 127.735,8.33128&#x27; style=&#x27;fill:none;fill-rule:evenodd;stroke:#000000;stroke-width:2px;stroke-linecap:butt;stroke-linejoin:miter;stroke-opacity:1&#x27; /&gt;\\n&lt;path class=&#x27;bond-19&#x27; d=&#x27;M 92.6102,77.22 L 71.8029,87.1915&#x27; style=&#x27;fill:none;fill-rule:evenodd;stroke:#000000;stroke-width:2px;stroke-linecap:butt;stroke-linejoin:miter;stroke-opacity:1&#x27; /&gt;\\n&lt;path class=&#x27;bond-19&#x27; d=&#x27;M 87.2114,73.9629 L 72.6463,80.943&#x27; style=&#x27;fill:none;fill-rule:evenodd;stroke:#000000;stroke-width:2px;stroke-linecap:butt;stroke-linejoin:miter;stroke-opacity:1;stroke-dasharray:6,6&#x27; /&gt;\\n&lt;path class=&#x27;bond-20&#x27; d=&#x27;M 69.3047,53.7915 L 48.7802,63.9387&#x27; style=&#x27;fill:none;fill-rule:evenodd;stroke:#000000;stroke-width:2px;stroke-linecap:butt;stroke-linejoin:miter;stroke-opacity:1&#x27; /&gt;\\n&lt;path class=&#x27;bond-20&#x27; d=&#x27;M 68.5618,60.0381 L 54.1947,67.1411&#x27; style=&#x27;fill:none;fill-rule:evenodd;stroke:#000000;stroke-width:2px;stroke-linecap:butt;stroke-linejoin:miter;stroke-opacity:1;stroke-dasharray:6,6&#x27; /&gt;\\n&lt;path class=&#x27;bond-21&#x27; d=&#x27;M 71.8029,87.1915 L 50.0135,80.5508&#x27; style=&#x27;fill:none;fill-rule:evenodd;stroke:#000000;stroke-width:2px;stroke-linecap:butt;stroke-linejoin:miter;stroke-opacity:1&#x27; /&gt;\\n&lt;path class=&#x27;bond-21&#x27; d=&#x27;M 70.0709,81.154 L 54.8183,76.5055&#x27; style=&#x27;fill:none;fill-rule:evenodd;stroke:#000000;stroke-width:2px;stroke-linecap:butt;stroke-linejoin:miter;stroke-opacity:1;stroke-dasharray:6,6&#x27; /&gt;\\n&lt;path class=&#x27;bond-22&#x27; d=&#x27;M 48.7802,63.9387 L 50.0135,80.5508&#x27; style=&#x27;fill:none;fill-rule:evenodd;stroke:#000000;stroke-width:2px;stroke-linecap:butt;stroke-linejoin:miter;stroke-opacity:1&#x27; /&gt;\\n&lt;path class=&#x27;bond-22&#x27; d=&#x27;M 52.1187,66.1964 L 52.982,77.8249&#x27; style=&#x27;fill:none;fill-rule:evenodd;stroke:#000000;stroke-width:2px;stroke-linecap:butt;stroke-linejoin:miter;stroke-opacity:1;stroke-dasharray:6,6&#x27; /&gt;\\n&lt;text x=&#x27;23.4388&#x27; y=&#x27;61.9553&#x27; style=&#x27;font-size:8px;font-style:normal;font-weight:normal;fill-opacity:1;stroke:none;font-family:sans-serif;text-anchor:start;fill:#FF0000&#x27; &gt;&lt;tspan&gt;O&lt;/tspan&gt;&lt;/text&gt;\\n&lt;text x=&#x27;141.584&#x27; y=&#x27;94.1923&#x27; style=&#x27;font-size:8px;font-style:normal;font-weight:normal;fill-opacity:1;stroke:none;font-family:sans-serif;text-anchor:start;fill:#0000FF&#x27; &gt;&lt;tspan&gt;N&lt;/tspan&gt;&lt;/text&gt;\\n&lt;/svg&gt;\\n&quot;, &quot;data-PUBCHEM_PHARMACOPHORE_FEATURES&quot;: &quot;6\\n1 1 acceptor\\n1 2 cation\\n6 2 3 4 5 6 11 rings\\n6 3 4 5 9 10 14 rings\\n6 3 4 7 8 12 13 rings\\n6 9 14 15 17 18 19 rings&quot;, &quot;data-PUBCHEM_SHAPE_MULTIPOLES&quot;: &quot;400.74\\n5.6\\n3.06\\n1.56\\n9.27\\n1.48\\n-0.17\\n-2.06\\n-0.35\\n-3.16\\n0.37\\n-0.63\\n-0.08\\n-0.95&quot;, &quot;data-PUBCHEM_CONFORMER_DIVERSEORDER&quot;: &quot;1\\n2&quot;, &quot;mols2grid-id&quot;: 1, &quot;data-_MolFileInfo&quot;: &quot;  -OEChem-11292116143D&quot;, &quot;data-PUBCHEM_ATOM_UDEF_STEREO_COUNT&quot;: 0, &quot;data-PUBCHEM_MMFF94_ENERGY&quot;: 65.3106, &quot;data-PUBCHEM_COORDINATE_TYPE&quot;: &quot;2\\n5\\n10&quot;, &quot;data-mols2grid-id-copy&quot;: 1}])\n",
       "      \n",
       "      // checkbox\n",
       "      if (window.parent.IPython !== undefined) {\n",
       "        // Jupyter notebook\n",
       "        var kernel = window.parent.IPython.notebook.kernel;\n",
       "        kernel.execute(&#x27;import mols2grid&#x27;)\n",
       "        kernel.execute(&#x27;mols2grid.reset_selection()&#x27;)\n",
       "        function set_selection(_id, smiles) {\n",
       "          kernel.execute(&quot;mols2grid.set_selection(&quot;+_id+&quot;,&#x27;&quot;+smiles+&quot;&#x27;)&quot;)\n",
       "        }\n",
       "        function del_selection(_id) {\n",
       "          kernel.execute(&quot;mols2grid.del_selection(&quot;+_id+&quot;)&quot;);\n",
       "        }\n",
       "      } else if (window.parent.google !== undefined) {\n",
       "        // Google colab\n",
       "        var kernel = window.parent.google.colab.kernel;\n",
       "        (async function() {\n",
       "          const result = await kernel.invokeFunction(&#x27;m2g.reset_selection&#x27;, [], {});\n",
       "        })();\n",
       "        function set_selection(_id, smiles) {\n",
       "          (async function() {\n",
       "            const result = await kernel.invokeFunction(&#x27;m2g.set_selection&#x27;, [_id, smiles], {});\n",
       "          })();\n",
       "        }\n",
       "        function del_selection(_id) {\n",
       "          (async function() {\n",
       "            const result = await kernel.invokeFunction(&#x27;m2g.del_selection&#x27;, [_id], {});\n",
       "          })();\n",
       "        }\n",
       "      }\n",
       "      \n",
       "      \n",
       "      // sort\n",
       "      var sort_field = &quot;mols2grid-id&quot;;\n",
       "      var sort_order = &quot;asc&quot;;\n",
       "      function coerce_type(str) {\n",
       "        if (isNaN(str)) return null;\n",
       "        var num = parseFloat(str)\n",
       "        return isNaN(num) ? str : num;\n",
       "      }\n",
       "      function mols2gridSortFunction(itemA, itemB, options) {\n",
       "        var x = coerce_type(itemA.values()[options.valueName]);\n",
       "        var y = coerce_type(itemB.values()[options.valueName]);\n",
       "        if (x &gt; y) { \n",
       "          return 1;\n",
       "        } else if (x &lt; y) {\n",
       "          return -1;\n",
       "        } else {\n",
       "          return 0;\n",
       "        }\n",
       "      }\n",
       "      $(&#x27;#mols2grid button.sort-btn&#x27;).click(function(e) {\n",
       "        var _field = $(this).attr(&quot;data-name&quot;);\n",
       "        if (_field == sort_field) {\n",
       "          $(this).removeClass(&quot;arrow-&quot; + sort_order)\n",
       "          sort_order = (sort_order === &quot;desc&quot;) ? &quot;asc&quot; : &quot;desc&quot;;\n",
       "        } else {\n",
       "          $(&#x27;#mols2grid button.sort-btn.active&#x27;).removeClass(&quot;active &quot;+&quot;arrow-&quot;+sort_order);\n",
       "          sort_order = &quot;asc&quot;;\n",
       "          sort_field = _field;\n",
       "          $(this).addClass(&quot;active&quot;);\n",
       "        }\n",
       "        $(this).addClass(&quot;arrow-&quot; + sort_order)\n",
       "        listObj.sort(_field, {order: sort_order, sortFunction: mols2gridSortFunction});\n",
       "      });\n",
       "      // search bar\n",
       "      function SmartsSearch(query, columns) {\n",
       "        query = $(&#x27;#mols2grid #searchbar&#x27;).val();\n",
       "        var smiles = columns[0];\n",
       "        var qmol = RDKitModule.get_qmol(query);\n",
       "        if (qmol.is_valid()) {\n",
       "          for (var k = 0, kl = listObj.items.length; k &lt; kl; k++) {\n",
       "            var item = listObj.items[k];\n",
       "            var mol = RDKitModule.get_mol(item.values()[smiles]);\n",
       "            var results = JSON.parse(mol.get_substruct_match(qmol));\n",
       "            if (results.atoms) {\n",
       "              item.found = true;\n",
       "            } else {\n",
       "              item.found = false;\n",
       "            }\n",
       "            mol.delete();\n",
       "          }\n",
       "        }\n",
       "        qmol.delete();\n",
       "      }\n",
       "      var search_type = &quot;Text&quot;;\n",
       "      $(&#x27;#mols2grid .search-btn&#x27;).click(function() {\n",
       "        search_type = $(this).text();\n",
       "        $(&#x27;#mols2grid button.search-btn.active&#x27;).removeClass(&quot;active&quot;);\n",
       "        $(this).addClass(&quot;active&quot;);\n",
       "      });\n",
       "      $(&#x27;#mols2grid #searchbar&#x27;).on(&quot;keyup&quot;, function(e) {\n",
       "        var query = e.target.value;\n",
       "        if (search_type === &quot;Text&quot;) {\n",
       "          listObj.search(query, [&#x27;data-SMILES&#x27;, &#x27;data-_Name&#x27;, &#x27;data-_MolFileInfo&#x27;, &#x27;data-_MolFileComments&#x27;, &#x27;data-_MolFileChiralFlag&#x27;, &#x27;data-PUBCHEM_COMPOUND_CID&#x27;, &#x27;data-PUBCHEM_CONFORMER_RMSD&#x27;, &#x27;data-PUBCHEM_CONFORMER_DIVERSEORDER&#x27;, &#x27;data-PUBCHEM_MMFF94_PARTIAL_CHARGES&#x27;, &#x27;data-PUBCHEM_EFFECTIVE_ROTOR_COUNT&#x27;, &#x27;data-PUBCHEM_PHARMACOPHORE_FEATURES&#x27;, &#x27;data-PUBCHEM_HEAVY_ATOM_COUNT&#x27;, &#x27;data-PUBCHEM_ATOM_DEF_STEREO_COUNT&#x27;, &#x27;data-PUBCHEM_ATOM_UDEF_STEREO_COUNT&#x27;, &#x27;data-PUBCHEM_BOND_DEF_STEREO_COUNT&#x27;, &#x27;data-PUBCHEM_BOND_UDEF_STEREO_COUNT&#x27;, &#x27;data-PUBCHEM_ISOTOPIC_ATOM_COUNT&#x27;, &#x27;data-PUBCHEM_COMPONENT_COUNT&#x27;, &#x27;data-PUBCHEM_CACTVS_TAUTO_COUNT&#x27;, &#x27;data-PUBCHEM_CONFORMER_ID&#x27;, &#x27;data-PUBCHEM_MMFF94_ENERGY&#x27;, &#x27;data-PUBCHEM_FEATURE_SELFOVERLAP&#x27;, &#x27;data-PUBCHEM_SHAPE_FINGERPRINT&#x27;, &#x27;data-PUBCHEM_SHAPE_MULTIPOLES&#x27;, &#x27;data-PUBCHEM_SHAPE_SELFOVERLAP&#x27;, &#x27;data-PUBCHEM_SHAPE_VOLUME&#x27;, &#x27;data-PUBCHEM_COORDINATE_TYPE&#x27;, &#x27;data-mols2grid-id&#x27;]);\n",
       "        } else {\n",
       "          listObj.search(query, [&quot;data-&quot;+&quot;SMILES&quot;], SmartsSearch);\n",
       "        }\n",
       "      });\n",
       "      \n",
       "      \n",
       "      // update selection on checkbox click\n",
       "      if (kernel !== undefined) {\n",
       "        listObj.on(&quot;updated&quot;, function (list) {\n",
       "          $(&quot;input:checkbox&quot;).change(function() {\n",
       "            var _id = parseInt($(this).closest(&quot;.cell&quot;).attr(&quot;data-mols2grid-id&quot;));\n",
       "            var _smiles = $($(this).siblings(&quot;.data-SMILES&quot;)[0]).text();\n",
       "            if (this.checked) {\n",
       "              set_selection(_id, _smiles)\n",
       "            } else {\n",
       "              del_selection(_id)\n",
       "            }\n",
       "          }); \n",
       "        });\n",
       "      }\n",
       "      \n",
       "      \n",
       "      listObj.update();\n",
       "      \n",
       "    &lt;/script&gt;\n",
       "  &lt;/body&gt;\n",
       "&lt;/html&gt;\"></iframe>"
      ],
      "text/plain": [
       "<IPython.core.display.HTML object>"
      ]
     },
     "execution_count": 4,
     "metadata": {},
     "output_type": "execute_result"
    }
   ],
   "source": [
    "mols2grid.display(\"ketamine_SDF\", fixedBondLength=25)"
   ]
  },
  {
   "cell_type": "markdown",
   "id": "6890ccf1",
   "metadata": {},
   "source": [
    "## Cheminformatics Plot"
   ]
  },
  {
   "cell_type": "markdown",
   "id": "4aee8b9c",
   "metadata": {},
   "source": [
    "##### For my cheminformatics plotting method, I will be using PyMOL to display  a 3D image of the NMDA receptor molecule. "
   ]
  },
  {
   "cell_type": "code",
   "execution_count": null,
   "id": "dcec24d3",
   "metadata": {},
   "outputs": [],
   "source": []
  }
 ],
 "metadata": {
  "kernelspec": {
   "display_name": "Python 3",
   "language": "python",
   "name": "python3"
  },
  "language_info": {
   "codemirror_mode": {
    "name": "ipython",
    "version": 3
   },
   "file_extension": ".py",
   "mimetype": "text/x-python",
   "name": "python",
   "nbconvert_exporter": "python",
   "pygments_lexer": "ipython3",
   "version": "3.8.8"
  }
 },
 "nbformat": 4,
 "nbformat_minor": 5
}
